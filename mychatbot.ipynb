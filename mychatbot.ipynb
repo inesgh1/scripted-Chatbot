{
  "nbformat": 4,
  "nbformat_minor": 0,
  "metadata": {
    "colab": {
      "name": "mychatbot.ipynb",
      "provenance": [],
      "include_colab_link": true
    },
    "kernelspec": {
      "name": "python3",
      "display_name": "Python 3"
    },
    "language_info": {
      "name": "python"
    }
  },
  "cells": [
    {
      "cell_type": "markdown",
      "metadata": {
        "id": "view-in-github",
        "colab_type": "text"
      },
      "source": [
        "<a href=\"https://colab.research.google.com/github/inesgh1/scripted-Chatbot/blob/main/mychatbot.ipynb\" target=\"_parent\"><img src=\"https://colab.research.google.com/assets/colab-badge.svg\" alt=\"Open In Colab\"/></a>"
      ]
    },
    {
      "cell_type": "code",
      "source": [
        "import csv\n",
        "import pandas as pd\n",
        "import numpy as np\n",
        "import tensorflow\n",
        "import nltk\n",
        "nltk.download('punkt')\n",
        "import pickle"
      ],
      "metadata": {
        "colab": {
          "base_uri": "https://localhost:8080/"
        },
        "id": "2MjpAv2Pr3T0",
        "outputId": "194d65c0-f18f-4b16-d249-e1063823f0b0"
      },
      "execution_count": 1,
      "outputs": [
        {
          "output_type": "stream",
          "name": "stdout",
          "text": [
            "[nltk_data] Downloading package punkt to /root/nltk_data...\n",
            "[nltk_data]   Unzipping tokenizers/punkt.zip.\n"
          ]
        }
      ]
    },
    {
      "cell_type": "markdown",
      "source": [
        "**Loading our JSON Data**"
      ],
      "metadata": {
        "id": "kvHK8mfjwTW9"
      }
    },
    {
      "cell_type": "code",
      "source": [
        "import nltk\n",
        "from nltk.stem.lancaster import LancasterStemmer\n",
        "stemmer = LancasterStemmer()\n",
        "\n",
        "import numpy\n",
        "\n",
        "import tensorflow\n",
        "import random\n",
        "\n",
        "import json\n",
        "with open('intents.json') as file:\n",
        "    data = json.load(file)"
      ],
      "metadata": {
        "id": "Em8DgFJvr_cs"
      },
      "execution_count": 2,
      "outputs": []
    },
    {
      "cell_type": "markdown",
      "source": [
        "**Extracting Data**"
      ],
      "metadata": {
        "id": "GGb0CrMGwYMi"
      }
    },
    {
      "cell_type": "code",
      "source": [
        "try:\n",
        "    with open(\"data.pickle\", \"rb\") as f:\n",
        "        words, labels, training, output = pickle.load(f)\n",
        "except:\n",
        "    words = []\n",
        "    labels = []\n",
        "    docs_x = []\n",
        "    docs_y = []"
      ],
      "metadata": {
        "id": "eVcj8gfPuTtW"
      },
      "execution_count": 3,
      "outputs": []
    },
    {
      "cell_type": "code",
      "source": [
        "for intent in data['intents']:\n",
        "    for pattern in intent['patterns']:\n",
        "  # For each pattern I will turn it into a list of words using nltk.word_tokenizer\n",
        "        wrds = nltk.word_tokenize(pattern)\n",
        "        words.extend(wrds)\n",
        "        docs_x.append(wrds)\n",
        "        docs_y.append(intent[\"tag\"])\n",
        "        \n",
        "    if intent['tag'] not in labels:\n",
        "        labels.append(intent['tag'])"
      ],
      "metadata": {
        "id": "L087QkKFwp9t"
      },
      "execution_count": 4,
      "outputs": []
    },
    {
      "cell_type": "code",
      "source": [
        "#Stemming a word is attempting to find the root of the word.\n",
        "#perform stemming and lower each word as well as remove duplicates\n",
        "words = [stemmer.stem(w.lower()) for w in words if w != \"?\"]\n",
        "words = sorted(list(set(words)))\n",
        "\n",
        "labels = sorted(labels)"
      ],
      "metadata": {
        "id": "S07FLLknyCgA"
      },
      "execution_count": 5,
      "outputs": []
    },
    {
      "cell_type": "markdown",
      "source": [
        "**Bag of Words**\n",
        "\n",
        "represent each sentence with a list the length of the amount of words in the models vocabulary.\n",
        "Each position in the list will represent a word from the vocabulary. If the position in the list is a 1 then that will mean that the word exists in the sentence, if it is a 0 then the word is nor present. "
      ],
      "metadata": {
        "id": "_uFl6mNQyjmj"
      }
    },
    {
      "cell_type": "code",
      "source": [
        "training = []\n",
        "output = []\n",
        "\n",
        "out_empty = [0 for _ in range(len(labels))]\n",
        "\n",
        "for x, doc in enumerate(docs_x):\n",
        "  #initialize bag of words\n",
        "    bag = []\n",
        "\n",
        "    wrds = [stemmer.stem(w.lower()) for w in doc]\n",
        "\n",
        "    for w in words:\n",
        "        if w in wrds:\n",
        "            bag.append(1)\n",
        "        else:\n",
        "            bag.append(0)\n",
        "\n",
        "    output_row = out_empty[:]\n",
        "    output_row[labels.index(docs_y[x])] = 1\n",
        "\n",
        "    training.append(bag)\n",
        "    output.append(output_row)\n",
        "#convert the training data and output to numpy arrays.    \n",
        "training = numpy.array(training)\n",
        "output = numpy.array(output)    \n",
        "with open(\"data.pickle\", \"wb\") as f:\n",
        "      pickle.dump((words, labels, training, output), f)"
      ],
      "metadata": {
        "id": "UX2JVeLyycw1"
      },
      "execution_count": 6,
      "outputs": []
    },
    {
      "cell_type": "markdown",
      "source": [
        "**Developing a Model**\n",
        "\n",
        "using feed-forward neural network with two hidden layers. The goal of the network will be to look at a bag of words and give a class that they belong too (one of the tags from the JSON file)."
      ],
      "metadata": {
        "id": "cwO4dJtB1pKR"
      }
    },
    {
      "cell_type": "code",
      "source": [
        "!pip install tflearn"
      ],
      "metadata": {
        "colab": {
          "base_uri": "https://localhost:8080/"
        },
        "id": "3E5P1T7g3qBv",
        "outputId": "90407290-0b5c-4b4e-bca0-e54dd09dd6f9"
      },
      "execution_count": 7,
      "outputs": [
        {
          "output_type": "stream",
          "name": "stdout",
          "text": [
            "Collecting tflearn\n",
            "  Downloading tflearn-0.5.0.tar.gz (107 kB)\n",
            "\u001b[?25l\r\u001b[K     |███                             | 10 kB 20.3 MB/s eta 0:00:01\r\u001b[K     |██████                          | 20 kB 14.0 MB/s eta 0:00:01\r\u001b[K     |█████████▏                      | 30 kB 9.9 MB/s eta 0:00:01\r\u001b[K     |████████████▏                   | 40 kB 4.6 MB/s eta 0:00:01\r\u001b[K     |███████████████▎                | 51 kB 4.5 MB/s eta 0:00:01\r\u001b[K     |██████████████████▎             | 61 kB 5.3 MB/s eta 0:00:01\r\u001b[K     |█████████████████████▍          | 71 kB 5.5 MB/s eta 0:00:01\r\u001b[K     |████████████████████████▍       | 81 kB 5.6 MB/s eta 0:00:01\r\u001b[K     |███████████████████████████▌    | 92 kB 6.2 MB/s eta 0:00:01\r\u001b[K     |██████████████████████████████▌ | 102 kB 5.4 MB/s eta 0:00:01\r\u001b[K     |████████████████████████████████| 107 kB 5.4 MB/s \n",
            "\u001b[?25hRequirement already satisfied: numpy in /usr/local/lib/python3.7/dist-packages (from tflearn) (1.21.6)\n",
            "Requirement already satisfied: six in /usr/local/lib/python3.7/dist-packages (from tflearn) (1.15.0)\n",
            "Requirement already satisfied: Pillow in /usr/local/lib/python3.7/dist-packages (from tflearn) (7.1.2)\n",
            "Building wheels for collected packages: tflearn\n",
            "  Building wheel for tflearn (setup.py) ... \u001b[?25l\u001b[?25hdone\n",
            "  Created wheel for tflearn: filename=tflearn-0.5.0-py3-none-any.whl size=127299 sha256=c5b9e5e85e0c11fdf5cdecd1c66585d3b2f119b072a58168e9f1ce64a0d1af73\n",
            "  Stored in directory: /root/.cache/pip/wheels/5f/14/2e/1d8e28cc47a5a931a2fb82438c9e37ef9246cc6a3774520271\n",
            "Successfully built tflearn\n",
            "Installing collected packages: tflearn\n",
            "Successfully installed tflearn-0.5.0\n"
          ]
        }
      ]
    },
    {
      "cell_type": "code",
      "source": [
        "# defining the architecture of our model\n",
        "try:\n",
        "    model.load('model.tflearn')\n",
        "except:\n",
        "    tensorflow.compat.v1.reset_default_graph() \n",
        "    import tflearn\n",
        "\n",
        "    net = tflearn.input_data(shape=[None, len(training[0])])\n",
        "    net = tflearn.fully_connected(net, 8)\n",
        "    net = tflearn.fully_connected(net, 8)\n",
        "    net = tflearn.fully_connected(net, len(output[0]), activation='softmax')\n",
        "    net = tflearn.regression(net)\n",
        "\n",
        "    model = tflearn.DNN(net)\n",
        "\n",
        "    model.fit(training, output, n_epoch=1000, batch_size=8, show_metric=True)\n",
        "    model.save(\"model.tflearn\")\n"
      ],
      "metadata": {
        "colab": {
          "base_uri": "https://localhost:8080/"
        },
        "id": "C4pYJmzvzzYK",
        "outputId": "2e529840-e732-42cc-efd5-32dff82f2d3b"
      },
      "execution_count": 10,
      "outputs": [
        {
          "output_type": "stream",
          "name": "stdout",
          "text": [
            "Training Step: 3999  | total loss: \u001b[1m\u001b[32m0.56571\u001b[0m\u001b[0m | time: 0.012s\n",
            "| Adam | epoch: 1000 | loss: 0.56571 - acc: 0.9502 -- iter: 24/26\n",
            "Training Step: 4000  | total loss: \u001b[1m\u001b[32m0.51776\u001b[0m\u001b[0m | time: 0.016s\n",
            "| Adam | epoch: 1000 | loss: 0.51776 - acc: 0.9552 -- iter: 26/26\n",
            "--\n",
            "INFO:tensorflow:/content/model.tflearn is not in all_model_checkpoint_paths. Manually adding it.\n"
          ]
        }
      ]
    },
    {
      "cell_type": "markdown",
      "source": [
        "**Training & Saving the Model**"
      ],
      "metadata": {
        "id": "Z1ssHjMx4f7u"
      }
    },
    {
      "cell_type": "code",
      "source": [
        "#The bag_of_words function will transform the string input to a bag of words using the created words list\n",
        "def bag_of_words(s, words):\n",
        "    bag = [0 for _ in range(len(words))]\n",
        "\n",
        "    s_words = nltk.word_tokenize(s)\n",
        "    s_words = [stemmer.stem(word.lower()) for word in s_words]\n",
        "\n",
        "    for se in s_words:\n",
        "        for i, w in enumerate(words):\n",
        "            if w == se:\n",
        "                bag[i] = 1\n",
        "            \n",
        "    return numpy.array(bag)\n",
        "\n",
        "#The chat function will handle getting a prediction from the model and grabbing an appropriate \n",
        "#response from our JSON file of responses\n",
        "def chat():\n",
        "    print(\"Start talking with the bot (type quit to stop)!\")\n",
        "    while True:\n",
        "        inp = input(\"You: \")\n",
        "        if inp.lower() == \"quit\":\n",
        "            break\n",
        "\n",
        "        results = model.predict([bag_of_words(inp, words)])\n",
        "        results_index = numpy.argmax(results)\n",
        "        tag = labels[results_index]\n",
        "\n",
        "        for tg in data[\"intents\"]:\n",
        "            if tg['tag'] == tag:\n",
        "                responses = tg['responses']\n",
        "\n",
        "        print(random.choice(responses))\n",
        "\n",
        "chat()"
      ],
      "metadata": {
        "id": "Hj2NLt8O43qV",
        "colab": {
          "base_uri": "https://localhost:8080/"
        },
        "outputId": "ab53533f-0651-4a0d-c27d-31f7ca4f0276"
      },
      "execution_count": 15,
      "outputs": [
        {
          "name": "stdout",
          "output_type": "stream",
          "text": [
            "Start talking with the bot (type quit to stop)!\n",
            "You: hi\n",
            "Hi there, how can I help?\n",
            "You: what hours are you open!!\n",
            "Our hours are 9am-9pm every day\n",
            "You: are you open today!!\n",
            "Our hours are 9am-9pm every day\n",
            "You: do you take credit cards!!\n",
            "We accept VISA, Mastercard and AMEX\n",
            "You: thanks\n",
            "Any time!\n",
            "You: quit\n"
          ]
        }
      ]
    },
    {
      "cell_type": "code",
      "source": [
        ""
      ],
      "metadata": {
        "id": "21ymg2Xm9CQi"
      },
      "execution_count": 15,
      "outputs": []
    }
  ]
}